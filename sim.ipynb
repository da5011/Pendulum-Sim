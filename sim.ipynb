{
 "cells": [
  {
   "cell_type": "code",
   "execution_count": 2,
   "metadata": {},
   "outputs": [],
   "source": [
    "#Initialize\n",
    "simulation_duration = 100 #in seconds\n",
    "step_size = 0.01 #in seconds\n",
    "\n",
    "initial_angle = 0 #in degrees\n",
    "initial_velocity = 0 #in deg/second\n",
    "\n",
    "dampening_coefficient = 1 # deg/sec*kg\n",
    "mass = 5 #in kg\n",
    "length = 0.5 #in meters\n",
    "g = 9.81 #(m/s^2)\n",
    "#diffyq: d2theta/dt2 = (g/L)*sin(theta) = 0"
   ]
  },
  {
   "cell_type": "markdown",
   "metadata": {},
   "source": [
    "Numerically solve the non-linear pendulum differential equation:\n",
    "$\\frac{d^2\\theta}{dt^2} + \\frac{c}{m}\\frac{d\\theta}{dt} + \\frac{g}{L}\\sin(\\theta) = 0$\n",
    "\n",
    "Transform second-order equation into a system of first-order differential equations.\n",
    "Let $w = \\frac{d\\theta}{dt}$. The system is:\n",
    "\n",
    "$\\begin{cases}\n",
    "    w = \\frac{d\\theta}{dt}\\\\\n",
    "    \\frac{dw}{dt} = - \\frac{c}{m}w - \\frac{g}{L}\\sin(\\theta)\\\\\n",
    "\\end{cases}$\n"
   ]
  },
  {
   "cell_type": "code",
   "execution_count": 5,
   "metadata": {},
   "outputs": [],
   "source": [
    "cBym = dampening_coefficient/mass #precompute ratios\n",
    "gByL = g/length \n",
    "number_of_steps = simulation_duration/step_size\n",
    "\n",
    "def EulerMethod(nSteps, stepSize, IV1, IV2, const1, const2):\n",
    "    step = 0\n",
    "    t = 0\n",
    "    theta = IV1\n",
    "    thetadot = IV2\n",
    "\n",
    "    while step < number_of_steps:\n",
    "        t = t + stepSize\n",
    "        \n",
    "        step+= 1"
   ]
  },
  {
   "cell_type": "code",
   "execution_count": null,
   "metadata": {},
   "outputs": [],
   "source": [
    "EulerMethod(number_of_steps, step_size, initial_angle, initial_velocity, cBym, gByL)"
   ]
  }
 ],
 "metadata": {
  "kernelspec": {
   "display_name": "Python 3",
   "language": "python",
   "name": "python3"
  },
  "language_info": {
   "codemirror_mode": {
    "name": "ipython",
    "version": 3
   },
   "file_extension": ".py",
   "mimetype": "text/x-python",
   "name": "python",
   "nbconvert_exporter": "python",
   "pygments_lexer": "ipython3",
   "version": "3.10.2"
  },
  "orig_nbformat": 4
 },
 "nbformat": 4,
 "nbformat_minor": 2
}
